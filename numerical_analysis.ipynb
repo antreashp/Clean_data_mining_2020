{
 "cells": [
  {
   "cell_type": "code",
   "execution_count": 1,
   "metadata": {},
   "outputs": [],
   "source": [
    "from preprosses import *\n",
    "import numpy as np\n",
    "import pandas as pd"
   ]
  },
  {
   "cell_type": "code",
   "execution_count": 4,
   "metadata": {},
   "outputs": [],
   "source": [
    "preprocess_instance = preprocess(filename)\n",
    "df = preprocess_instance.create_dataframe()"
   ]
  },
  {
   "cell_type": "code",
   "execution_count": 5,
   "metadata": {},
   "outputs": [
    {
     "name": "stdout",
     "output_type": "stream",
     "text": [
      "6.9925545116114165\n",
      "user_id\n",
      "AS14.01    7.067568\n",
      "AS14.02    6.773585\n",
      "AS14.03    7.583710\n",
      "AS14.05    6.726141\n",
      "AS14.06    7.172414\n",
      "AS14.07    6.114583\n",
      "AS14.08    6.749164\n",
      "AS14.09    6.918782\n",
      "AS14.12    6.221622\n",
      "AS14.13    7.286885\n",
      "AS14.14    6.853659\n",
      "AS14.15    6.936803\n",
      "AS14.16    6.666667\n",
      "AS14.17    7.177215\n",
      "AS14.19    6.837104\n",
      "AS14.20    6.980198\n",
      "AS14.23    7.094340\n",
      "AS14.24    6.991597\n",
      "AS14.25    6.847328\n",
      "AS14.26    6.939210\n",
      "AS14.27    7.366834\n",
      "AS14.28    7.106509\n",
      "AS14.29    7.566845\n",
      "AS14.30    7.790179\n",
      "AS14.31    7.005051\n",
      "AS14.32    7.531250\n",
      "AS14.33    6.562500\n",
      "Name: mood, dtype: float64\n"
     ]
    }
   ],
   "source": [
    "print(df['mood'].mean() + 1)\n",
    "print(df.groupby('user_id')['mood'].mean() + 1)"
   ]
  },
  {
   "cell_type": "code",
   "execution_count": 6,
   "metadata": {},
   "outputs": [
    {
     "name": "stdout",
     "output_type": "stream",
     "text": [
      "9.333333333333334\n",
      "3.0\n"
     ]
    }
   ],
   "source": [
    "print(df.groupby(['date', 'user_id'])['mood'].mean().sort_values().max() + 1)\n",
    "print(df.groupby(['date', 'user_id'])['mood'].mean().sort_values().min() + 1)"
   ]
  },
  {
   "cell_type": "code",
   "execution_count": 15,
   "metadata": {},
   "outputs": [
    {
     "data": {
      "text/plain": [
       "user_id\n",
       "AS14.32    128\n",
       "AS14.25    131\n",
       "AS14.23    159\n",
       "AS14.02    159\n",
       "AS14.14    164\n",
       "AS14.28    169\n",
       "AS14.12    185\n",
       "AS14.29    187\n",
       "AS14.07    192\n",
       "AS14.33    192\n",
       "AS14.09    197\n",
       "AS14.31    198\n",
       "AS14.27    199\n",
       "AS14.20    202\n",
       "AS14.06    203\n",
       "AS14.03    221\n",
       "AS14.19    221\n",
       "AS14.01    222\n",
       "AS14.30    224\n",
       "AS14.16    231\n",
       "AS14.17    237\n",
       "AS14.24    238\n",
       "AS14.05    241\n",
       "AS14.13    244\n",
       "AS14.15    269\n",
       "AS14.08    299\n",
       "AS14.26    329\n",
       "dtype: int64"
      ]
     },
     "execution_count": 15,
     "metadata": {},
     "output_type": "execute_result"
    }
   ],
   "source": [
    "df.where(df['mood'].notna()).groupby('user_id').size().sort_values()"
   ]
  },
  {
   "cell_type": "code",
   "execution_count": null,
   "metadata": {},
   "outputs": [],
   "source": []
  }
 ],
 "metadata": {
  "kernelspec": {
   "display_name": "Python 3",
   "language": "python",
   "name": "python3"
  },
  "language_info": {
   "codemirror_mode": {
    "name": "ipython",
    "version": 3
   },
   "file_extension": ".py",
   "mimetype": "text/x-python",
   "name": "python",
   "nbconvert_exporter": "python",
   "pygments_lexer": "ipython3",
   "version": "3.6.3"
  }
 },
 "nbformat": 4,
 "nbformat_minor": 1
}
